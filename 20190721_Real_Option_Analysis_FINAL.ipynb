{
  "nbformat": 4,
  "nbformat_minor": 0,
  "metadata": {
    "colab": {
      "name": "20190721_Real_Option_Analysis_FINAL.ipynb",
      "version": "0.3.2",
      "provenance": [],
      "collapsed_sections": []
    },
    "language_info": {
      "codemirror_mode": {
        "name": "ipython",
        "version": 3
      },
      "file_extension": ".py",
      "mimetype": "text/x-python",
      "name": "python",
      "nbconvert_exporter": "python",
      "pygments_lexer": "ipython3",
      "version": "3.6.5"
    },
    "kernelspec": {
      "display_name": "Python 3",
      "language": "python",
      "name": "python3"
    }
  },
  "cells": [
    {
      "cell_type": "markdown",
      "metadata": {
        "id": "7gqfureDadFQ",
        "colab_type": "text"
      },
      "source": [
        "# REAL OPTION ANALYSIS\n",
        "Without Excel add-on software to run Monte Calro simulation, can compute call option price of a project."
      ]
    },
    {
      "cell_type": "code",
      "metadata": {
        "id": "Nw_2mnA3adFR",
        "colab_type": "code",
        "colab": {}
      },
      "source": [
        "# Package imports\n",
        "import pandas as pd\n",
        "import numpy as np\n",
        "import matplotlib.pyplot as plt\n",
        "import seaborn as sns\n",
        "from scipy.stats import norm\n",
        "\n",
        "%matplotlib inline"
      ],
      "execution_count": 0,
      "outputs": []
    },
    {
      "cell_type": "code",
      "metadata": {
        "id": "H6Yq0T3_adFT",
        "colab_type": "code",
        "colab": {}
      },
      "source": [
        "# Give the simulation size\n",
        "np.random.seed(1)\n",
        "N = 1000000"
      ],
      "execution_count": 0,
      "outputs": []
    },
    {
      "cell_type": "markdown",
      "metadata": {
        "id": "K5NH3FD3adFV",
        "colab_type": "text"
      },
      "source": [
        "### Distribution function [ https://docs.scipy.org/doc/numpy/reference/routines.random.html ]"
      ]
    },
    {
      "cell_type": "code",
      "metadata": {
        "scrolled": true,
        "id": "klspQ1ZvadFW",
        "colab_type": "code",
        "outputId": "2b3c698d-543a-4a26-b512-044f132ba048",
        "colab": {
          "base_uri": "https://localhost:8080/",
          "height": 186
        }
      },
      "source": [
        "# Make Distributions of Variables\n",
        "u_sales = np.random.uniform(200000000, 250000000, N).reshape(N, 1)\n",
        "u_price = np.random.normal(40, 60, N).reshape(N, 1)\n",
        "u_cost  = np.random.uniform(15, 22.5, N).reshape(N, 1)\n",
        "capex   = np.random.uniform(3000000000, 5000000000, N).reshape(N, 1)\n",
        "\n",
        "plt.figure(figsize=(15, 2))\n",
        "nbins = 50\n",
        "plt.subplot(141), plt.title(\"sales\")\n",
        "plt.hist(u_sales, nbins, density=True)\n",
        "plt.subplot(142), plt.title(\"unit price\")\n",
        "plt.hist(u_price, nbins, density=True)\n",
        "plt.subplot(143), plt.title(\"unit cost\")\n",
        "plt.hist(u_cost, nbins, density=True)\n",
        "plt.subplot(144), plt.title(\"capex\")\n",
        "plt.hist(capex, nbins, density=True)\n",
        "plt.savefig('Assumption.png')\n",
        "plt.show()"
      ],
      "execution_count": 14,
      "outputs": [
        {
          "output_type": "display_data",
          "data": {
            "image/png": "[encoded data removed]",
            "text/plain": [
              "<Figure size 1080x144 with 4 Axes>"
            ]
          },
          "metadata": {
            "tags": []
          }
        }
      ]
    },
    {
      "cell_type": "code",
      "metadata": {
        "id": "kMUkdDv-adFa",
        "colab_type": "code",
        "colab": {}
      },
      "source": [
        "# Compute Cash Flow Function\n",
        "\n",
        "def compute_cashFlow(year_depreciation, u_sales, u_price, u_cost, capex) :\n",
        "\n",
        "    sga_ratio = 0.2                       # SG&A = selling 5% + general & administration 15% = 20%\n",
        "    dep = capex / year_depreciation       # Depreciation 7-year flat\n",
        "    \n",
        "    # Computing sales, operation profit, cash flow\n",
        "    sales  = np.multiply( u_sales, u_price )\n",
        "    p_cost = np.multiply( u_sales, u_cost )\n",
        "    gls_margin = sales - p_cost\n",
        "    op_profit  = gls_margin - ( sales * sga_ratio )\n",
        "\n",
        "    nwc = ( p_cost - dep ) * ( 3/12 )      # Net working capital = cost * 3 months over 12 monthes\n",
        "    c_tax = op_profit * 0.33               # Corporate tax rate = 33%\n",
        "    fcf = op_profit - nwc - c_tax + dep\n",
        "\n",
        "    return fcf"
      ],
      "execution_count": 0,
      "outputs": []
    },
    {
      "cell_type": "code",
      "metadata": {
        "id": "L_mhErOkadFd",
        "colab_type": "code",
        "colab": {}
      },
      "source": [
        "# Computing every year cash flow\n",
        "u_sales_npv = u_sales\n",
        "u_price_npv = u_price\n",
        "u_cost_npv =  u_cost\n",
        "capex_npv = capex\n",
        "wacc = 0.04               # WACC\n",
        "dcf_npv = np.zeros(N).reshape(N, 1)\n",
        "\n",
        "for i in range(1, 5, 1) :\n",
        "    fcf_npv = compute_cashFlow(7, u_sales_npv, u_price_npv, u_cost_npv, capex_npv)\n",
        "    dcf_yearly = fcf_npv/(1+wacc)**(i)\n",
        "    dcf_npv = np.c_[dcf_npv, dcf_yearly]\n",
        "    \n",
        "    u_price = u_price * 0.95     # assume 5% price reduction every year\n",
        "    u_cost  = u_cost  * 0.95     # assume 5% cost reduction every year"
      ],
      "execution_count": 0,
      "outputs": []
    },
    {
      "cell_type": "code",
      "metadata": {
        "id": "MA9tn4uOadFf",
        "colab_type": "code",
        "colab": {}
      },
      "source": [
        "# print(dcf_ey)\n",
        "# print(dcf_ey.shape)"
      ],
      "execution_count": 0,
      "outputs": []
    },
    {
      "cell_type": "code",
      "metadata": {
        "scrolled": true,
        "id": "W-3ElY7wadFh",
        "colab_type": "code",
        "outputId": "db4473a0-f86f-4914-edb1-833b12de7c69",
        "colab": {
          "base_uri": "https://localhost:8080/",
          "height": 294
        }
      },
      "source": [
        "# NPV distribution and contribution by variables\n",
        "\n",
        "dcf_0y = np.c_[dcf_npv, -capex_npv]\n",
        "npv_0y = np.sum(dcf_0y, axis = 1, keepdims = True )\n",
        "print('npv_0y mean =', np.mean(npv_0y)/1000000)\n",
        "print('npv_0y std  =', np.std(npv_0y)/1000000)\n",
        "\n",
        "corr_pv_sales =  np.corrcoef(npv_0y.reshape(1, N), u_sales_npv.reshape(1, N))[0, 1]\n",
        "corr_pv_uprice = np.corrcoef(npv_0y.reshape(1, N), u_price_npv.reshape(1, N))[0, 1]\n",
        "corr_pv_ucost =  np.corrcoef(npv_0y.reshape(1, N), u_cost_npv.reshape(1, N))[0, 1]\n",
        "corr_pv_capex =  np.corrcoef(npv_0y.reshape(1, N), capex_npv.reshape(1, N))[0, 1]\n",
        "\n",
        "print('correlations (sales, price, cost, capex) : ', corr_pv_sales, corr_pv_uprice, corr_pv_ucost, corr_pv_capex)\n",
        "plt.figure(figsize=(15, 3))\n",
        "plt.subplot(121)\n",
        "plt.hist(npv_0y, nbins, color='pink')\n",
        "plt.title(\"NPV\")\n",
        "plt.xlabel('NPV') \n",
        "plt.ylabel('frequency')\n",
        "\n",
        "plt.subplot(122)\n",
        "variables = np.array(['u_sales', 'u_price', 'u_cost', 'capex'])\n",
        "correlation = np.array([corr_pv_sales, corr_pv_uprice, corr_pv_ucost, corr_pv_capex])\n",
        "correlation_abs = np.abs(correlation)\n",
        "correlation_ratio = correlation / np.sum(correlation_abs)\n",
        "plt.barh(variables, correlation_ratio, color='green')\n",
        "plt.title(\"Contribution to NPV\")\n",
        "plt.savefig('npv+sensitivity.png')\n",
        "\n",
        "plt.show()"
      ],
      "execution_count": 18,
      "outputs": [
        {
          "output_type": "stream",
          "text": [
            "npv_0y mean = 1982.4174954777422\n",
            "npv_0y std  = 26337.31547087625\n",
            "correlations (sales, price, cost, capex) :  0.009594531386842483 0.9959726765735558 -0.061616958886081825 -0.006801763469732467\n"
          ],
          "name": "stdout"
        },
        {
          "output_type": "display_data",
          "data": {
            "image/png": "[encoded data removed]",
            "text/plain": [
              "<Figure size 1080x216 with 2 Axes>"
            ]
          },
          "metadata": {
            "tags": []
          }
        }
      ]
    },
    {
      "cell_type": "code",
      "metadata": {
        "id": "MSYFDcC0adFj",
        "colab_type": "code",
        "outputId": "1f537cd0-9ee2-4f24-afa2-ce03c9997e18",
        "colab": {
          "base_uri": "https://localhost:8080/",
          "height": 140
        }
      },
      "source": [
        "# Compute volatility\n",
        "wacc        = 0.04          # WACC\n",
        "\n",
        "# PV of cash-in at year 0\n",
        "u_sales_p0  = u_sales\n",
        "u_price_p0  = u_price\n",
        "u_cost_p0   = u_cost\n",
        "capex_p0    = capex\n",
        "\n",
        "dcf_wocapex_y0 = np.zeros(N).reshape(N, 1)\n",
        "for i in range(1, 5, 1) :\n",
        "    fcf0 = compute_cashFlow(7, u_sales_p0, u_price_p0, u_cost_p0, capex_p0)\n",
        "    dcf_yearly0 = fcf0/(1+wacc)**(i)\n",
        "    dcf_wocapex_y0 = np.c_[dcf_wocapex_y0, dcf_yearly0]   \n",
        "    u_price_p0 = u_price_p0 * 0.95     # assume 5% price reduction every year\n",
        "    u_cost_p0  = u_cost_p0  * 0.95     # assume 5% cost reduction every year\n",
        "\n",
        "\n",
        "# PV of cash-in at year 1\n",
        "u_sales_p1  = u_sales\n",
        "u_price_p1  = u_price\n",
        "u_cost_p1   = u_cost\n",
        "capex_p1    = capex\n",
        "\n",
        "dcf_wocapex_y1 = np.zeros(N).reshape(N, 1)\n",
        "for j in range(1, 5, 1) :\n",
        "    fcf1 = compute_cashFlow(7, u_sales_p1, u_price_p1, u_cost_p1, capex_p1)\n",
        "    dcf_yearly1 = fcf1/(1+wacc)**(j-1)\n",
        "    dcf_wocapex_y1 = np.c_[dcf_wocapex_y1, dcf_yearly1]   \n",
        "    u_price_p1 = u_price_p1 * 0.95     # assume 5% price reduction every year\n",
        "    u_cost_p1  = u_cost_p1  * 0.95     # assume 5% cost reduction every year\n",
        "\n",
        "pv_y0 = np.sum(dcf_wocapex_y0, axis=1, keepdims = True)\n",
        "pv_y1 = np.sum(dcf_wocapex_y1, axis=1, keepdims = True)\n",
        "print(pv_y1 - pv_y0, np.mean(pv_y1 - pv_y0)/1000000, (pv_y1 - pv_y0).shape)"
      ],
      "execution_count": 19,
      "outputs": [
        {
          "output_type": "stream",
          "text": [
            "[[ 1.62124668e+09]\n",
            " [-1.16659632e+08]\n",
            " [-3.35927962e+08]\n",
            " ...\n",
            " [ 1.84569045e+08]\n",
            " [ 6.45368464e+08]\n",
            " [ 9.27617062e+08]] 206.39112779733085 (1000000, 1)\n"
          ],
          "name": "stdout"
        }
      ]
    },
    {
      "cell_type": "code",
      "metadata": {
        "id": "YzII01gpadFl",
        "colab_type": "code",
        "outputId": "eefd405b-6410-46d6-c257-2bd1417c5f27",
        "colab": {
          "base_uri": "https://localhost:8080/",
          "height": 258
        }
      },
      "source": [
        "# Expected return at year 0\n",
        "exp_return = (pv_y1-pv_y0) / np.median(capex)\n",
        "print(np.mean(exp_return), np.std(exp_return), exp_return.shape)\n",
        "plt.figure(figsize=(8, 3))\n",
        "plt.hist(exp_return, nbins, color='red')\n",
        "plt.title(\"Expected return\")\n",
        "plt.xlabel('Return') \n",
        "plt.ylabel('Frequency')\n",
        "plt.savefig('Exp_return.png')\n",
        "plt.show()"
      ],
      "execution_count": 20,
      "outputs": [
        {
          "output_type": "stream",
          "text": [
            "0.05160397497440877 0.1995176107962529 (1000000, 1)\n"
          ],
          "name": "stdout"
        },
        {
          "output_type": "display_data",
          "data": {
            "image/png": "[encoded data removed]",
            "text/plain": [
              "<Figure size 576x216 with 1 Axes>"
            ]
          },
          "metadata": {
            "tags": []
          }
        }
      ]
    },
    {
      "cell_type": "code",
      "metadata": {
        "id": "cU_0Ovo9adFo",
        "colab_type": "code",
        "colab": {}
      },
      "source": [
        "# Compute ROA using B/S model\n",
        "\n",
        "def roa_BS(S, X, t, sigma, rf):\n",
        "    d1 = (np.log(S/X)+(rf*t))/(sigma*np.sqrt(t))+0.5*sigma*np.sqrt(t)\n",
        "    d2 = d1 - sigma*np.sqrt(t)\n",
        "    Nd1 = norm.cdf(d1)\n",
        "    Nd2 = norm.cdf(d2)\n",
        "    C = S*Nd1-X*(np.exp(-r*t))*Nd2\n",
        "    \n",
        "    return d1, d2, Nd1, Nd2, C"
      ],
      "execution_count": 0,
      "outputs": []
    },
    {
      "cell_type": "code",
      "metadata": {
        "id": "_8KSXSDRadFp",
        "colab_type": "code",
        "colab": {}
      },
      "source": [
        "sig_median = np.std(exp_return)\n",
        "ti = ([1, 2, 3, 4, 5])\n",
        "sig = ([0.8*sig_median, 0.9*sig_median, sig_median, 1.1*sig_median, 1.2*sig_median])\n",
        "r = 0.0001\n",
        "\n",
        "ROA = np.zeros(25).reshape(5, 5)\n",
        "\n",
        "for i in range(0, 5) :\n",
        "    for j in range(0, 5) :\n",
        "        d1, d2, Nd1, Nd2, C = roa_BS(np.mean(npv_0y), np.median(capex), ti[i], sig[j], r) ;\n",
        "        ROA[i, j] = round(C,2)/1000000 ;"
      ],
      "execution_count": 0,
      "outputs": []
    },
    {
      "cell_type": "code",
      "metadata": {
        "scrolled": true,
        "id": "wVjKkF8RadFr",
        "colab_type": "code",
        "outputId": "1aed5ebf-ff31-4896-ce26-52796ce797ac",
        "colab": {
          "base_uri": "https://localhost:8080/",
          "height": 52
        }
      },
      "source": [
        "print(np.mean(npv_0y))\n",
        "print(np.median(capex))"
      ],
      "execution_count": 23,
      "outputs": [
        {
          "output_type": "stream",
          "text": [
            "1982417495.4777422\n",
            "3999519957.5165195\n"
          ],
          "name": "stdout"
        }
      ]
    },
    {
      "cell_type": "code",
      "metadata": {
        "id": "lacxvt-sadFt",
        "colab_type": "code",
        "outputId": "5ddd7d6c-57c8-4d53-cb75-c81ec6867ff0",
        "colab": {
          "base_uri": "https://localhost:8080/",
          "height": 295
        }
      },
      "source": [
        "df_roa = pd.DataFrame(data=ROA,\n",
        "                      index=['1', '2', '3', '4', '5'],\n",
        "                      columns=(round(0.8*sig_median*100, 2), round(0.9*sig_median*100, 2),\n",
        "                               round(sig_median*100, 2), round(1.1*sig_median*100, 2), round(1.2*sig_median*100, 2)))\n",
        "\n",
        "sns.heatmap(df_roa, annot=True, fmt='g', cmap='Blues')\n",
        "plt.title('Real Option Values by T and sigma (Millions of YEN)')\n",
        "plt.xlabel('Volratility') \n",
        "plt.ylabel('Year')\n",
        "plt.savefig('ROA_heatmap.png')\n",
        "plt.show()"
      ],
      "execution_count": 24,
      "outputs": [
        {
          "output_type": "display_data",
          "data": {
            "image/png": "[encoded data removed]",
            "text/plain": [
              "<Figure size 432x288 with 2 Axes>"
            ]
          },
          "metadata": {
            "tags": []
          }
        }
      ]
    },
    {
      "cell_type": "code",
      "metadata": {
        "id": "Frnt-K-9adFw",
        "colab_type": "code",
        "colab": {}
      },
      "source": [
        ""
      ],
      "execution_count": 0,
      "outputs": []
    },
    {
      "cell_type": "code",
      "metadata": {
        "id": "jCDzMriwadFx",
        "colab_type": "code",
        "colab": {}
      },
      "source": [
        ""
      ],
      "execution_count": 0,
      "outputs": []
    }
  ]
}
