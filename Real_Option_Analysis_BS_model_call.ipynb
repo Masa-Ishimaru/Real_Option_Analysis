{
 "cells": [
  {
   "cell_type": "markdown",
   "metadata": {
    "colab_type": "text",
    "id": "7gqfureDadFQ"
   },
   "source": [
    "# REAL OPTION ANALYSIS - call option BS model"
   ]
  },
  {
   "cell_type": "code",
   "execution_count": 2,
   "metadata": {
    "colab": {},
    "colab_type": "code",
    "id": "Nw_2mnA3adFR"
   },
   "outputs": [],
   "source": [
    "# Package imports\n",
    "import pandas as pd\n",
    "import numpy as np\n",
    "import matplotlib.pyplot as plt\n",
    "import seaborn as sns\n",
    "from scipy.stats import norm\n",
    "\n",
    "%matplotlib inline"
   ]
  },
  {
   "cell_type": "code",
   "execution_count": 3,
   "metadata": {
    "colab": {},
    "colab_type": "code",
    "id": "H6Yq0T3_adFT"
   },
   "outputs": [],
   "source": [
    "# Give the simulation size\n",
    "np.random.seed(1)\n",
    "N = 1000000"
   ]
  },
  {
   "cell_type": "markdown",
   "metadata": {
    "colab_type": "text",
    "id": "K5NH3FD3adFV"
   },
   "source": [
    "### Distribution function [ https://docs.scipy.org/doc/numpy/reference/routines.random.html ]"
   ]
  },
  {
   "cell_type": "code",
   "execution_count": 4,
   "metadata": {
    "colab": {
     "base_uri": "https://localhost:8080/",
     "height": 186
    },
    "colab_type": "code",
    "id": "klspQ1ZvadFW",
    "outputId": "2b3c698d-543a-4a26-b512-044f132ba048",
    "scrolled": true
   },
   "outputs": [
    {
     "data": {
      "image/png": "[encoded data removed]",
      "text/plain": [
       "<Figure size 1080x144 with 4 Axes>"
      ]
     },
     "metadata": {
      "needs_background": "light"
     },
     "output_type": "display_data"
    }
   ],
   "source": [
    "# Make Distributions of Variables\n",
    "u_sales = np.random.uniform(200000000, 250000000, N).reshape(N, 1)\n",
    "u_price = np.random.normal(40, 60, N).reshape(N, 1)\n",
    "u_cost  = np.random.uniform(15, 22.5, N).reshape(N, 1)\n",
    "capex   = np.random.uniform(3000000000, 5000000000, N).reshape(N, 1)\n",
    "\n",
    "plt.figure(figsize=(15, 2))\n",
    "nbins = 50\n",
    "plt.subplot(141), plt.title(\"sales\")\n",
    "plt.hist(u_sales, nbins, density=True)\n",
    "plt.subplot(142), plt.title(\"unit price\")\n",
    "plt.hist(u_price, nbins, density=True)\n",
    "plt.subplot(143), plt.title(\"unit cost\")\n",
    "plt.hist(u_cost, nbins, density=True)\n",
    "plt.subplot(144), plt.title(\"capex\")\n",
    "plt.hist(capex, nbins, density=True)\n",
    "plt.savefig('Assumption.png')\n",
    "plt.show()"
   ]
  },
  {
   "cell_type": "code",
   "execution_count": 5,
   "metadata": {
    "colab": {},
    "colab_type": "code",
    "id": "kMUkdDv-adFa"
   },
   "outputs": [],
   "source": [
    "# Compute Cash Flow Function\n",
    "\n",
    "def compute_cashFlow(year_depreciation, u_sales, u_price, u_cost, capex) :\n",
    "\n",
    "    sga_ratio = 0.2                       # SG&A = selling 5% + general & administration 15% = 20%\n",
    "    dep = capex / year_depreciation       # Depreciation 7-year flat\n",
    "    \n",
    "    # Computing sales, operation profit, cash flow\n",
    "    sales  = np.multiply( u_sales, u_price )\n",
    "    p_cost = np.multiply( u_sales, u_cost )\n",
    "    gls_margin = sales - p_cost\n",
    "    op_profit  = gls_margin - ( sales * sga_ratio )\n",
    "\n",
    "    nwc = ( p_cost - dep ) * ( 3/12 )      # Net working capital = cost * 3 months over 12 monthes\n",
    "    c_tax = op_profit * 0.33               # Corporate tax rate = 33%\n",
    "    fcf = op_profit - nwc - c_tax + dep\n",
    "\n",
    "    return fcf"
   ]
  },
  {
   "cell_type": "code",
   "execution_count": 6,
   "metadata": {
    "colab": {},
    "colab_type": "code",
    "id": "L_mhErOkadFd"
   },
   "outputs": [],
   "source": [
    "# Computing every year cash flow\n",
    "u_sales_npv = u_sales\n",
    "u_price_npv = u_price\n",
    "u_cost_npv =  u_cost\n",
    "capex_npv = capex\n",
    "wacc = 0.04               # WACC\n",
    "dcf_npv = np.zeros(N).reshape(N, 1)\n",
    "\n",
    "for i in range(1, 5, 1) :\n",
    "    fcf_npv = compute_cashFlow(7, u_sales_npv, u_price_npv, u_cost_npv, capex_npv)\n",
    "    dcf_yearly = fcf_npv/(1+wacc)**(i)\n",
    "    dcf_npv = np.c_[dcf_npv, dcf_yearly]\n",
    "    \n",
    "    u_price = u_price * 0.95     # assume 5% price reduction every year\n",
    "    u_cost  = u_cost  * 0.95     # assume 5% cost reduction every year"
   ]
  },
  {
   "cell_type": "code",
   "execution_count": 7,
   "metadata": {
    "colab": {},
    "colab_type": "code",
    "id": "MA9tn4uOadFf"
   },
   "outputs": [],
   "source": [
    "# print(dcf_ey)\n",
    "# print(dcf_ey.shape)"
   ]
  },
  {
   "cell_type": "code",
   "execution_count": 8,
   "metadata": {
    "colab": {
     "base_uri": "https://localhost:8080/",
     "height": 294
    },
    "colab_type": "code",
    "id": "W-3ElY7wadFh",
    "outputId": "db4473a0-f86f-4914-edb1-833b12de7c69",
    "scrolled": true
   },
   "outputs": [
    {
     "name": "stdout",
     "output_type": "stream",
     "text": [
      "npv_0y mean = 1978.313881166248\n",
      "npv_0y std  = 26356.570787266686\n",
      "correlations (sales, price, cost, capex) :  0.006030048640260162 0.9959777131742411 -0.06059086760118861 -0.007458339025127561\n"
     ]
    },
    {
     "data": {
      "image/png": "[encoded data removed]",
      "text/plain": [
       "<Figure size 1080x216 with 2 Axes>"
      ]
     },
     "metadata": {
      "needs_background": "light"
     },
     "output_type": "display_data"
    }
   ],
   "source": [
    "# NPV distribution and contribution by variables\n",
    "\n",
    "dcf_0y = np.c_[dcf_npv, -capex_npv]\n",
    "npv_0y = np.sum(dcf_0y, axis = 1, keepdims = True )\n",
    "print('npv_0y mean =', np.mean(npv_0y)/1000000)\n",
    "print('npv_0y std  =', np.std(npv_0y)/1000000)\n",
    "\n",
    "corr_pv_sales =  np.corrcoef(npv_0y.reshape(1, N), u_sales_npv.reshape(1, N))[0, 1]\n",
    "corr_pv_uprice = np.corrcoef(npv_0y.reshape(1, N), u_price_npv.reshape(1, N))[0, 1]\n",
    "corr_pv_ucost =  np.corrcoef(npv_0y.reshape(1, N), u_cost_npv.reshape(1, N))[0, 1]\n",
    "corr_pv_capex =  np.corrcoef(npv_0y.reshape(1, N), capex_npv.reshape(1, N))[0, 1]\n",
    "\n",
    "print('correlations (sales, price, cost, capex) : ', corr_pv_sales, corr_pv_uprice, corr_pv_ucost, corr_pv_capex)\n",
    "plt.figure(figsize=(15, 3))\n",
    "plt.subplot(121)\n",
    "plt.hist(npv_0y, nbins, color='pink')\n",
    "plt.title(\"NPV\")\n",
    "plt.xlabel('NPV') \n",
    "plt.ylabel('frequency')\n",
    "\n",
    "plt.subplot(122)\n",
    "variables = np.array(['u_sales', 'u_price', 'u_cost', 'capex'])\n",
    "correlation = np.array([corr_pv_sales, corr_pv_uprice, corr_pv_ucost, corr_pv_capex])\n",
    "correlation_abs = np.abs(correlation)\n",
    "correlation_ratio = correlation / np.sum(correlation_abs)\n",
    "plt.barh(variables, correlation_ratio, color='green')\n",
    "plt.title(\"Contribution to NPV\")\n",
    "plt.savefig('npv+sensitivity.png')\n",
    "\n",
    "plt.show()"
   ]
  },
  {
   "cell_type": "code",
   "execution_count": 9,
   "metadata": {
    "colab": {
     "base_uri": "https://localhost:8080/",
     "height": 140
    },
    "colab_type": "code",
    "id": "MSYFDcC0adFj",
    "outputId": "1f537cd0-9ee2-4f24-afa2-ce03c9997e18"
   },
   "outputs": [
    {
     "name": "stdout",
     "output_type": "stream",
     "text": [
      "[[ 5.96591838e+08]\n",
      " [-4.80227960e+08]\n",
      " [-6.64717109e+08]\n",
      " ...\n",
      " [-3.41747675e+08]\n",
      " [ 1.52832619e+08]\n",
      " [ 3.90533445e+08]] 206.2795846941217 (1000000, 1)\n"
     ]
    }
   ],
   "source": [
    "# Compute volatility\n",
    "wacc        = 0.04          # WACC\n",
    "\n",
    "# PV of cash-in at year 0\n",
    "u_sales_p0  = u_sales\n",
    "u_price_p0  = u_price\n",
    "u_cost_p0   = u_cost\n",
    "capex_p0    = capex\n",
    "\n",
    "dcf_wocapex_y0 = np.zeros(N).reshape(N, 1)\n",
    "for i in range(1, 5, 1) :\n",
    "    fcf0 = compute_cashFlow(7, u_sales_p0, u_price_p0, u_cost_p0, capex_p0)\n",
    "    dcf_yearly0 = fcf0/(1+wacc)**(i)\n",
    "    dcf_wocapex_y0 = np.c_[dcf_wocapex_y0, dcf_yearly0]   \n",
    "    u_price_p0 = u_price_p0 * 0.95     # assume 5% price reduction every year\n",
    "    u_cost_p0  = u_cost_p0  * 0.95     # assume 5% cost reduction every year\n",
    "\n",
    "\n",
    "# PV of cash-in at year 1\n",
    "u_sales_p1  = u_sales\n",
    "u_price_p1  = u_price\n",
    "u_cost_p1   = u_cost\n",
    "capex_p1    = capex\n",
    "\n",
    "dcf_wocapex_y1 = np.zeros(N).reshape(N, 1)\n",
    "for j in range(1, 5, 1) :\n",
    "    fcf1 = compute_cashFlow(7, u_sales_p1, u_price_p1, u_cost_p1, capex_p1)\n",
    "    dcf_yearly1 = fcf1/(1+wacc)**(j-1)\n",
    "    dcf_wocapex_y1 = np.c_[dcf_wocapex_y1, dcf_yearly1]   \n",
    "    u_price_p1 = u_price_p1 * 0.95     # assume 5% price reduction every year\n",
    "    u_cost_p1  = u_cost_p1  * 0.95     # assume 5% cost reduction every year\n",
    "\n",
    "pv_y0 = np.sum(dcf_wocapex_y0, axis=1, keepdims = True)\n",
    "pv_y1 = np.sum(dcf_wocapex_y1, axis=1, keepdims = True)\n",
    "print(pv_y1 - pv_y0, np.mean(pv_y1 - pv_y0)/1000000, (pv_y1 - pv_y0).shape)"
   ]
  },
  {
   "cell_type": "code",
   "execution_count": 10,
   "metadata": {
    "colab": {
     "base_uri": "https://localhost:8080/",
     "height": 258
    },
    "colab_type": "code",
    "id": "YzII01gpadFl",
    "outputId": "eefd405b-6410-46d6-c257-2bd1417c5f27"
   },
   "outputs": [
    {
     "name": "stdout",
     "output_type": "stream",
     "text": [
      "0.05157256253387037 0.19964629737148915 (1000000, 1)\n"
     ]
    },
    {
     "data": {
      "image/png": "[encoded data removed]",
      "text/plain": [
       "<Figure size 576x216 with 1 Axes>"
      ]
     },
     "metadata": {
      "needs_background": "light"
     },
     "output_type": "display_data"
    }
   ],
   "source": [
    "# Expected return at year 0\n",
    "exp_return = (pv_y1-pv_y0) / np.median(capex)\n",
    "print(np.mean(exp_return), np.std(exp_return), exp_return.shape)\n",
    "plt.figure(figsize=(8, 3))\n",
    "plt.hist(exp_return, nbins, color='red')\n",
    "plt.title(\"Expected return\")\n",
    "plt.xlabel('Return') \n",
    "plt.ylabel('Frequency')\n",
    "plt.savefig('Exp_return.png')\n",
    "plt.show()"
   ]
  },
  {
   "cell_type": "code",
   "execution_count": 11,
   "metadata": {
    "colab": {},
    "colab_type": "code",
    "id": "cU_0Ovo9adFo"
   },
   "outputs": [],
   "source": [
    "# Compute ROA using B/S model\n",
    "\n",
    "def roa_BS(S, X, t, sigma, rf):\n",
    "    d1 = (np.log(S/X)+(rf*t))/(sigma*np.sqrt(t))+0.5*sigma*np.sqrt(t)\n",
    "    d2 = d1 - sigma*np.sqrt(t)\n",
    "    Nd1 = norm.cdf(d1)\n",
    "    Nd2 = norm.cdf(d2)\n",
    "    C = S*Nd1-X*(np.exp(-r*t))*Nd2\n",
    "    \n",
    "    return d1, d2, Nd1, Nd2, C"
   ]
  },
  {
   "cell_type": "code",
   "execution_count": 12,
   "metadata": {
    "colab": {},
    "colab_type": "code",
    "id": "_8KSXSDRadFp"
   },
   "outputs": [],
   "source": [
    "sig_median = np.std(exp_return)\n",
    "ti = ([1, 2, 3, 4, 5])\n",
    "sig = ([0.8*sig_median, 0.9*sig_median, sig_median, 1.1*sig_median, 1.2*sig_median])\n",
    "r = 0.0001\n",
    "\n",
    "ROA = np.zeros(25).reshape(5, 5)\n",
    "\n",
    "for i in range(0, 5) :\n",
    "    for j in range(0, 5) :\n",
    "        d1, d2, Nd1, Nd2, C = roa_BS(np.mean(npv_0y), np.median(capex), ti[i], sig[j], r) ;\n",
    "        ROA[i, j] = round(C,2)/1000000 ;"
   ]
  },
  {
   "cell_type": "code",
   "execution_count": 13,
   "metadata": {
    "colab": {
     "base_uri": "https://localhost:8080/",
     "height": 52
    },
    "colab_type": "code",
    "id": "wVjKkF8RadFr",
    "outputId": "1aed5ebf-ff31-4896-ce26-52796ce797ac",
    "scrolled": true
   },
   "outputs": [
    {
     "name": "stdout",
     "output_type": "stream",
     "text": [
      "1978313881.1662478\n",
      "3999793195.435019\n"
     ]
    }
   ],
   "source": [
    "print(np.mean(npv_0y))\n",
    "print(np.median(capex))"
   ]
  },
  {
   "cell_type": "code",
   "execution_count": 32,
   "metadata": {
    "colab": {
     "base_uri": "https://localhost:8080/",
     "height": 295
    },
    "colab_type": "code",
    "id": "lacxvt-sadFt",
    "outputId": "5ddd7d6c-57c8-4d53-cb75-c81ec6867ff0"
   },
   "outputs": [
    {
     "data": {
      "image/png": "[encoded data removed]",
      "text/plain": [
       "<Figure size 576x576 with 2 Axes>"
      ]
     },
     "metadata": {
      "needs_background": "light"
     },
     "output_type": "display_data"
    }
   ],
   "source": [
    "df_roa = pd.DataFrame(data=ROA,\n",
    "                      index=['1', '2', '3', '4', '5'],\n",
    "                      columns=(round(0.8*sig_median*100, 2), round(0.9*sig_median*100, 2),\n",
    "                               round(sig_median*100, 2), round(1.1*sig_median*100, 2), round(1.2*sig_median*100, 2)))\n",
    "\n",
    "plt.figure(figsize = (8, 8))\n",
    "sns.heatmap(df_roa, annot=True, cmap='Blues', square=True, fmt=\"1.2f\", annot_kws={\"size\":12})\n",
    "plt.title('Real Option Values by time to invest and sigma (Millions of YEN)')\n",
    "plt.xlabel('Volratility', fontsize=14) \n",
    "plt.ylabel('Years to wait', fontsize=14)\n",
    "plt.xlim(len(df_roa), 0)\n",
    "plt.ylim(len(df_roa), 0)\n",
    "\n",
    "plt.savefig('ROA_heatmap.png')\n",
    "plt.show()"
   ]
  },
  {
   "cell_type": "code",
   "execution_count": 0,
   "metadata": {
    "colab": {},
    "colab_type": "code",
    "id": "jCDzMriwadFx"
   },
   "outputs": [],
   "source": []
  }
 ],
 "metadata": {
  "colab": {
   "collapsed_sections": [],
   "name": "20190721_Real_Option_Analysis_FINAL.ipynb",
   "provenance": [],
   "version": "0.3.2"
  },
  "kernelspec": {
   "display_name": "Python 3",
   "language": "python",
   "name": "python3"
  },
  "language_info": {
   "codemirror_mode": {
    "name": "ipython",
    "version": 3
   },
   "file_extension": ".py",
   "mimetype": "text/x-python",
   "name": "python",
   "nbconvert_exporter": "python",
   "pygments_lexer": "ipython3",
   "version": "3.7.4"
  }
 },
 "nbformat": 4,
 "nbformat_minor": 1
}
